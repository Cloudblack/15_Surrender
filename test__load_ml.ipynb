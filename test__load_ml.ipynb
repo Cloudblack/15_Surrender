{
 "cells": [
  {
   "cell_type": "code",
   "execution_count": 6,
   "metadata": {},
   "outputs": [],
   "source": [
    "import joblib\n",
    "import pandas as pd\n",
    "loaded_model = joblib.load('pred_lol.pkl')"
   ]
  },
  {
   "cell_type": "code",
   "execution_count": 7,
   "metadata": {},
   "outputs": [],
   "source": []
  },
  {
   "cell_type": "code",
   "execution_count": 8,
   "metadata": {},
   "outputs": [
    {
     "data": {
      "text/plain": [
       "('입력값 갯수 : 45 블루팀 승률 : 0.16442853212356567 레드팀 승률 : 0.8355714678764343+결과: 블루승',\n",
       " '입력값 갯수 : 45 블루팀 승률 : 0.07197285443544388 레드팀 승률 : 0.9280271530151367+결과: 레드승',\n",
       " '입력값 갯수 : 45 블루팀 승률 : 0.15894392132759094 레드팀 승률 : 0.8410561084747314+결과: 블루승',\n",
       " '입력값 갯수 : 45 블루팀 승률 : 0.3162885010242462 레드팀 승률 : 0.6837115287780762+결과: 블루승',\n",
       " '입력값 갯수 : 45 블루팀 승률 : 0.4031272828578949 레드팀 승률 : 0.5968726873397827+결과: 블루승')"
      ]
     },
     "execution_count": 8,
     "metadata": {},
     "output_type": "execute_result"
    }
   ],
   "source": [
    "\n",
    "\"\"\" \n",
    "예측시 필요한값 (순서대로)\n",
    "블루레벨5 , 블루미니언5, 블루킬5,블루어시5,블루타워1,블루승패1, 레드레벨5 , 레드미니언5, 레드킬5,레드어시5,레드타워1,블루드래곤1,레드드래곤1\n",
    "\"\"\"\n",
    "put_data1=[9,10,11,9,8,75,77,136,96,7,2,4,3,2,0,1,4,2,3,4,0,1,11,10,10,9,8,105,80,111,118,13,3,2,4,5,1,0,3,1,3,5,1,0,1]\n",
    "put_data2=[10,10,10,10,6,92,80,103,109,15,1,5,2,0,1,1,2,3,0,4,0,0,11,9,10,11,8,107,91,116,109,20,2,8,1,7,1,1,1,6,0,9,1,0,2]\n",
    "put_data3=[11,9,11,8,8,111,90,116,88,28,5,2,3,0,2,1,3,1,1,2,0,1,9,10,10,11,9,93,93,94,151,24,1,5,1,7,4,0,4,2,2,8,1,0,1]\n",
    "put_data4=[10,10,10,10,8,64,64,93,98,26,1,2,3,8,1,3,5,4,2,6,0,1,10,10,10,9,8,103,96,111,96,25,2,3,4,5,0,1,4,0,1,7,2,0,1]\n",
    "test_test=[8,8,8,7,6,90,90,90,90,0,0,0,10,0,0,0,0,0,0,0,0,1,9,9,9,8,7,100,100,100,100,0,1,1,1,1,1,2,2,2,2,0,0,0,0]\n",
    "\n",
    "def put_test(put):\n",
    "    lp=len(put)\n",
    "    dictdata={'level_blue':sum(put[:5]),\n",
    "        'minionsKilled_blue':sum(put[5:10]),\n",
    "        'kill_blue':sum(put[10:15]),\n",
    "        'assi_blue':sum(put[15:20]),\n",
    "        'tower_blue':put[20],\n",
    "        'win_blue':put[21],\n",
    "        'level_red':sum(put[22:27]),\n",
    "        'minionsKilled_red':sum(put[27:32]),\n",
    "        'kill_red':sum(put[32:37]),\n",
    "        'assi_red':sum(put[37:42]),\n",
    "        'tower_red':put[42],\n",
    "        'dragon_blue':put[43],\n",
    "        'dragon_red':put[44],\n",
    "        }\n",
    "    testdf = pd.DataFrame(columns=data_columns,data=dictdata,index=[0])\n",
    "    y,x=split_xy(testdf)\n",
    "    pred=loaded_model.predict_proba(x)    \n",
    "    if y[0] == 1:\n",
    "        z='결과: 블루승'\n",
    "    else:\n",
    "        z='결과: 레드승'\n",
    "    return f'입력값 갯수 : {lp} 블루팀 승률 : {pred[0][1]} 레드팀 승률 : {pred[0][0]}+{z}'  \n",
    "\n",
    "put_test(put_data1),put_test(put_data2),put_test(put_data3),put_test(put_data4),put_test(test_test)"
   ]
  }
 ],
 "metadata": {
  "interpreter": {
   "hash": "918fc5bcd4c1bc74b6bb1fa8c9b430da7901e6b5ca54864ebe1239ffd5adb73e"
  },
  "kernelspec": {
   "display_name": "Python 3.8.11 64-bit ('n3pj': conda)",
   "name": "python3"
  },
  "language_info": {
   "codemirror_mode": {
    "name": "ipython",
    "version": 3
   },
   "file_extension": ".py",
   "mimetype": "text/x-python",
   "name": "python",
   "nbconvert_exporter": "python",
   "pygments_lexer": "ipython3",
   "version": "3.8.11"
  },
  "orig_nbformat": 4
 },
 "nbformat": 4,
 "nbformat_minor": 2
}
